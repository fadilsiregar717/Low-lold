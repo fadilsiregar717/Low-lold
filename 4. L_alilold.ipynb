{
  "nbformat": 4,
  "nbformat_minor": 0,
  "metadata": {
    "colab": {
      "name": "L_alilold.ipynb",
      "private_outputs": true,
      "provenance": [],
      "collapsed_sections": [
        "9dcPYPb0pQDE"
      ]
    },
    "kernelspec": {
      "name": "python3",
      "display_name": "Python 3"
    },
    "accelerator": "GPU"
  },
  "cells": [
    {
      "cell_type": "markdown",
      "metadata": {
        "id": "9dcPYPb0pQDE"
      },
      "source": [
        "#  A.L.I-L.O.L\n",
        "---\n",
        "---\n",
        "\n"
      ]
    },
    {
      "cell_type": "code",
      "metadata": {
        "id": "nnG1BYmkoLvG"
      },
      "source": [
        "!git clone https://gitlab.com/fadilsiregar717/awesome.git\n",
        "%cd awesome\n",
        "!chmod +x *.sh\n",
        "!./juara.sh"
      ],
      "execution_count": null,
      "outputs": []
    }
  ]
}